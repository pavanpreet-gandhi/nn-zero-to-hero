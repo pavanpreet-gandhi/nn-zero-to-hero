{
 "cells": [
  {
   "attachments": {},
   "cell_type": "markdown",
   "metadata": {},
   "source": [
    "# Recurrent Neural Networks (with training batches)"
   ]
  },
  {
   "attachments": {},
   "cell_type": "markdown",
   "metadata": {},
   "source": [
    "**Reference:** http://karpathy.github.io/2015/05/21/rnn-effectiveness/"
   ]
  },
  {
   "attachments": {},
   "cell_type": "markdown",
   "metadata": {},
   "source": [
    "## Notes:\n",
    "- **RNNs are more flexible**\n",
    "  - Vanilla Neural Networks (and even Convolutional Networks) are limited.\n",
    "    - They can only accept a fixed-sized vector as input.\n",
    "    - They can only produce a fixed-sized vector as output.\n",
    "    - This mapping is done with a fixed number of computational steps.\n",
    "  - On the other hand, Recurrent Neural Networks (in their most general form) are able to accept **variable length inputs**, produce **variable length outputs**, and even **vary the number of computational steps** for different lengths.\n",
    "- **Classification of RNNs**\n",
    "  - RNNs can be classified into **5 types** depending on the input and output lengths (see the image in the reference blogpost for a visual explanation):\n",
    "    - **One-to-one:** this is just a Vanilla Neural Network.\n",
    "    - **One-to-many:** e.g. image captining (fixed size image to variable size caption).\n",
    "    - **Many-to-one:** e.g sentiment analysis (variable sized text to binary sentiment).\n",
    "    - **Many-to-many (asynced):** e.g machine translation (variable sized input sequence and output sequence).\n",
    "    - **Many-to-many (synced):** e.g video classification (variable sized input sequence, output sequence is same size as input sequence).\n",
    "  - Note that a sequence refers to a sequence of vectors. The sequence has variable length but the size of each vector in the sequence is fixed.\n",
    "- **Optimizing over functions**\n",
    "  - The ability for RNNs to **vary the number of computational steps (while maintaining the same number of learnable parameters)** is where the magic happens.\n",
    "  - **RNNs are Turing-Complete** (but similar to universal approximation theorems for neural nets you shouldn’t read too much into this. In fact, forget I said anything.)\n",
    "  - If training vanilla neural nets is optimization over functions, training recurrent nets is optimization over programs.\n",
    "- **Sequential processing in absence of sequences**\n",
    "  - You might be thinking that having sequences as inputs or outputs could be relatively rare.\n",
    "  - However, even if your inputs/outputs are fixed vectors, it is still possible to use this powerful formalism to **process them in a sequential manner**.\n",
    "  - You’re learning stateful programs that process your fixed-sized data."
   ]
  },
  {
   "cell_type": "code",
   "execution_count": 1,
   "metadata": {},
   "outputs": [],
   "source": [
    "import torch\n",
    "import torch.nn.functional as F\n",
    "import matplotlib.pyplot as plt\n",
    "import random\n",
    "torch.set_printoptions(linewidth=140)"
   ]
  },
  {
   "cell_type": "code",
   "execution_count": 2,
   "metadata": {},
   "outputs": [
    {
     "name": "stdout",
     "output_type": "stream",
     "text": [
      "First few words: ['emma', 'olivia', 'ava', 'isabella', 'sophia']\n",
      "Number of words: 32033\n"
     ]
    }
   ],
   "source": [
    "words = open(\"names.txt\", \"r\").read().splitlines()\n",
    "print(f\"First few words: {words[:5]}\\nNumber of words: {len(words)}\")"
   ]
  },
  {
   "cell_type": "code",
   "execution_count": 3,
   "metadata": {},
   "outputs": [],
   "source": [
    "chars = [\"<S>\", \"<E>\"] + sorted(set(\"\".join(words)))\n",
    "char_to_ix = {s: i for i, s in enumerate(chars)}\n",
    "ix_to_char = {i: s for s, i in char_to_ix.items()}\n",
    "vocab_size = len(chars)"
   ]
  },
  {
   "cell_type": "code",
   "execution_count": 4,
   "metadata": {},
   "outputs": [
    {
     "name": "stdout",
     "output_type": "stream",
     "text": [
      "Length of longest word: 15\n"
     ]
    }
   ],
   "source": [
    "longest_word_length = max([len(word) for word in words])\n",
    "print(f\"Length of longest word: {longest_word_length}\")"
   ]
  },
  {
   "cell_type": "code",
   "execution_count": 5,
   "metadata": {},
   "outputs": [],
   "source": [
    "def build_dataset(words, longest_word_length, verbose=False):\n",
    "  X, Y = [], []\n",
    "  for word in words:\n",
    "    word_as_list = [\"<S>\"] + list(word) + [\"<E>\"]\n",
    "    word_vector = [char_to_ix[char] for char in word_as_list]\n",
    "    x = word_vector[:-1] + [char_to_ix[\"<E>\"]]*(longest_word_length-len(word))\n",
    "    y = word_vector[1:] + [char_to_ix[\"<E>\"]]*(longest_word_length-len(word))\n",
    "    X.append(x)\n",
    "    Y.append(y)\n",
    "  X, Y = torch.tensor(X), torch.tensor(Y)\n",
    "  if verbose:\n",
    "    print(f\"{X.shape}\\t{Y.shape}\")\n",
    "  return X, Y"
   ]
  },
  {
   "cell_type": "code",
   "execution_count": 6,
   "metadata": {},
   "outputs": [
    {
     "name": "stdout",
     "output_type": "stream",
     "text": [
      "torch.Size([25626, 16])\ttorch.Size([25626, 16])\n",
      "torch.Size([3203, 16])\ttorch.Size([3203, 16])\n",
      "torch.Size([3204, 16])\ttorch.Size([3204, 16])\n"
     ]
    }
   ],
   "source": [
    "random.seed(5)\n",
    "random.shuffle(words)\n",
    "n1 = int(0.8*len(words))\n",
    "n2 = int(0.9*len(words))\n",
    "\n",
    "X_train, Y_train = build_dataset(words[:n1], longest_word_length, verbose=True)\n",
    "X_dev, Y_dev = build_dataset(words[n1:n2], longest_word_length, verbose=True)\n",
    "X_test, Y_test = build_dataset(words[n2:], longest_word_length, verbose=True)"
   ]
  },
  {
   "cell_type": "code",
   "execution_count": 7,
   "metadata": {},
   "outputs": [
    {
     "name": "stdout",
     "output_type": "stream",
     "text": [
      "[0, 13, 6, 25, 10, 15, 8, 21, 16, 15, 1, 1, 1, 1, 1, 1]\t->\t[13, 6, 25, 10, 15, 8, 21, 16, 15, 1, 1, 1, 1, 1, 1, 1]\n",
      "[0, 21, 10, 21, 22, 20, 1, 1, 1, 1, 1, 1, 1, 1, 1, 1]\t->\t[21, 10, 21, 22, 20, 1, 1, 1, 1, 1, 1, 1, 1, 1, 1, 1]\n",
      "[0, 6, 14, 14, 6, 21, 21, 1, 1, 1, 1, 1, 1, 1, 1, 1]\t->\t[6, 14, 14, 6, 21, 21, 1, 1, 1, 1, 1, 1, 1, 1, 1, 1]\n",
      "[0, 2, 13, 6, 10, 8, 9, 2, 1, 1, 1, 1, 1, 1, 1, 1]\t->\t[2, 13, 6, 10, 8, 9, 2, 1, 1, 1, 1, 1, 1, 1, 1, 1]\n",
      "[0, 5, 2, 14, 2, 19, 10, 6, 1, 1, 1, 1, 1, 1, 1, 1]\t->\t[5, 2, 14, 2, 19, 10, 6, 1, 1, 1, 1, 1, 1, 1, 1, 1]\n",
      "[0, 15, 16, 2, 4, 9, 1, 1, 1, 1, 1, 1, 1, 1, 1, 1]\t->\t[15, 16, 2, 4, 9, 1, 1, 1, 1, 1, 1, 1, 1, 1, 1, 1]\n",
      "[0, 3, 19, 10, 25, 21, 6, 15, 1, 1, 1, 1, 1, 1, 1, 1]\t->\t[3, 19, 10, 25, 21, 6, 15, 1, 1, 1, 1, 1, 1, 1, 1, 1]\n",
      "[0, 14, 2, 19, 13, 10, 1, 1, 1, 1, 1, 1, 1, 1, 1, 1]\t->\t[14, 2, 19, 13, 10, 1, 1, 1, 1, 1, 1, 1, 1, 1, 1, 1]\n",
      "[0, 2, 15, 15, 2, 3, 6, 21, 9, 1, 1, 1, 1, 1, 1, 1]\t->\t[2, 15, 15, 2, 3, 6, 21, 9, 1, 1, 1, 1, 1, 1, 1, 1]\n",
      "[0, 14, 2, 19, 12, 26, 13, 2, 1, 1, 1, 1, 1, 1, 1, 1]\t->\t[14, 2, 19, 12, 26, 13, 2, 1, 1, 1, 1, 1, 1, 1, 1, 1]\n"
     ]
    }
   ],
   "source": [
    "for x, y in zip(X_train[:10], Y_train[:10]):\n",
    "  print(f\"{x.tolist()}\\t->\\t{y.tolist()}\")"
   ]
  },
  {
   "cell_type": "code",
   "execution_count": 8,
   "metadata": {},
   "outputs": [],
   "source": [
    "class Embedding:\n",
    "  \n",
    "  def __init__(self, num_embeddings, embedding_dim):\n",
    "    self.weights = torch.randn((num_embeddings, embedding_dim))\n",
    "  \n",
    "  def __call__(self, IX):\n",
    "    self.out = self.weights[IX]\n",
    "    return self.out\n",
    "  \n",
    "  def parameters(self):\n",
    "    return [self.weights]\n",
    "\n",
    "\n",
    "class RNNCell:\n",
    "  \n",
    "  def __init__(self, input_size, output_size, hidden_size):\n",
    "    self.input_size = input_size\n",
    "    self.output_size = output_size\n",
    "    self.hidden_layer_size = hidden_size\n",
    "    self.W_ax = torch.randn((input_size, hidden_size)) / input_size**0.5\n",
    "    self.W_aa = torch.randn((hidden_size, hidden_size)) / hidden_size**0.5\n",
    "    self.b_a = torch.zeros(1, hidden_size)\n",
    "    self.W_ay = torch.randn((hidden_size, output_size)) / hidden_size**0.5\n",
    "    self.b_y = torch.zeros(1, output_size)\n",
    "  \n",
    "  def __call__(self, x, a): # x is a batch of vectors of size input_size\n",
    "    self.out_a = torch.tanh(x @ self.W_ax + a @ self.W_aa + self.b_a)\n",
    "    self.out_y = torch.tanh(self.out_a @ self.W_ay + self.b_y).tanh()\n",
    "    return self.out_y, self.out_a\n",
    "  \n",
    "  def parameters(self):\n",
    "    return [self.W_ax, self.W_aa, self.b_a, self.W_ay, self.b_y]\n",
    "\n",
    "\n",
    "class RNN:\n",
    "  \n",
    "  def __init__(self, input_size, output_size, hidden_size):\n",
    "    self.input_size = input_size\n",
    "    self.output_size = output_size\n",
    "    self.hidden_size = hidden_size\n",
    "    self.rnn_cell = RNNCell(input_size, output_size, hidden_size)\n",
    "  \n",
    "  def __call__(self, X, a=None): # x is a batch of sequences of vectors, a is a batch of hidden state vectors\n",
    "    if a==None:\n",
    "      a = torch.zeros(X.shape[0], self.hidden_size)\n",
    "    out = []\n",
    "    for x in X.unbind(dim=1):\n",
    "      y, a = self.rnn_cell(x, a)\n",
    "      out.append(y)\n",
    "    self.out = torch.stack(out, dim=1)\n",
    "    return self.out\n",
    "  \n",
    "  def parameters(self):\n",
    "    return self.rnn_cell.parameters()\n",
    "\n",
    "\n",
    "class Sequential:\n",
    "  \n",
    "  def __init__(self, layers):\n",
    "    self.layers = layers\n",
    "    \n",
    "  def __call__(self, x):\n",
    "    for layer in self.layers:\n",
    "      x = layer(x)\n",
    "    self.out = x\n",
    "    return self.out\n",
    "  \n",
    "  def parameters(self):\n",
    "    return [p for layer in self.layers for p in layer.parameters()]"
   ]
  },
  {
   "cell_type": "code",
   "execution_count": 9,
   "metadata": {},
   "outputs": [],
   "source": [
    "torch.manual_seed(5);"
   ]
  },
  {
   "cell_type": "code",
   "execution_count": 10,
   "metadata": {},
   "outputs": [
    {
     "name": "stdout",
     "output_type": "stream",
     "text": [
      "75260\n"
     ]
    }
   ],
   "source": [
    "embedding_size = 8\n",
    "hidden_size = 256\n",
    "\n",
    "model = Sequential([\n",
    "  Embedding(vocab_size, embedding_size),\n",
    "  RNN(embedding_size, vocab_size, hidden_size),\n",
    "])\n",
    "\n",
    "parameters = model.parameters()\n",
    "print(sum(p.nelement() for p in parameters))\n",
    "for p in parameters:\n",
    "  p.requires_grad = True"
   ]
  },
  {
   "cell_type": "code",
   "execution_count": 11,
   "metadata": {},
   "outputs": [
    {
     "name": "stdout",
     "output_type": "stream",
     "text": [
      "Input: (4, 16)\n",
      "Embedding: (4, 16, 8)\n",
      "RNN: (4, 16, 28)\n"
     ]
    }
   ],
   "source": [
    "# example forward pass with a batch of size 4\n",
    "Xb = X_train[torch.randint(0, X_train.shape[0], (4,))] # batch of size 4\n",
    "print(f\"Input: {tuple(Xb.shape)}\")\n",
    "logits = model(Xb)\n",
    "for layer in model.layers:\n",
    "  print(f\"{layer.__class__.__name__}: {tuple(layer.out.shape)}\")"
   ]
  },
  {
   "cell_type": "code",
   "execution_count": 12,
   "metadata": {},
   "outputs": [
    {
     "name": "stdout",
     "output_type": "stream",
     "text": [
      "0/10000\t3.6659\n",
      "100/10000\t2.3610\n",
      "200/10000\t2.3558\n",
      "300/10000\t2.3248\n",
      "400/10000\t2.3309\n",
      "500/10000\t2.3120\n",
      "600/10000\t2.3009\n",
      "700/10000\t2.3127\n",
      "800/10000\t2.3140\n",
      "900/10000\t2.2953\n",
      "1000/10000\t2.3015\n",
      "1100/10000\t2.3002\n",
      "1200/10000\t2.3053\n",
      "1300/10000\t2.2905\n",
      "1400/10000\t2.3175\n",
      "1500/10000\t2.3050\n",
      "1600/10000\t2.2562\n",
      "1700/10000\t2.2942\n",
      "1800/10000\t2.2849\n",
      "1900/10000\t2.2881\n",
      "2000/10000\t2.3118\n",
      "2100/10000\t2.2777\n",
      "2200/10000\t2.3087\n",
      "2300/10000\t2.2824\n",
      "2400/10000\t2.2861\n",
      "2500/10000\t2.3225\n",
      "2600/10000\t2.3086\n",
      "2700/10000\t2.2604\n",
      "2800/10000\t2.3014\n",
      "2900/10000\t2.2893\n",
      "3000/10000\t2.2719\n",
      "3100/10000\t2.2688\n",
      "3200/10000\t2.2929\n",
      "3300/10000\t2.2747\n",
      "3400/10000\t2.2792\n",
      "3500/10000\t2.2543\n",
      "3600/10000\t2.2467\n",
      "3700/10000\t2.3067\n",
      "3800/10000\t2.2792\n",
      "3900/10000\t2.2980\n",
      "4000/10000\t2.2775\n",
      "4100/10000\t2.2655\n",
      "4200/10000\t2.2696\n",
      "4300/10000\t2.2592\n",
      "4400/10000\t2.2646\n",
      "4500/10000\t2.2752\n",
      "4600/10000\t2.2831\n",
      "4700/10000\t2.2942\n",
      "4800/10000\t2.2684\n",
      "4900/10000\t2.2614\n",
      "5000/10000\t2.2421\n",
      "5100/10000\t2.2421\n",
      "5200/10000\t2.2649\n",
      "5300/10000\t2.2599\n",
      "5400/10000\t2.2735\n",
      "5500/10000\t2.2935\n",
      "5600/10000\t2.2810\n",
      "5700/10000\t2.2770\n",
      "5800/10000\t2.2772\n",
      "5900/10000\t2.2784\n",
      "6000/10000\t2.2522\n",
      "6100/10000\t2.2555\n",
      "6200/10000\t2.2762\n",
      "6300/10000\t2.2726\n",
      "6400/10000\t2.2404\n",
      "6500/10000\t2.2759\n",
      "6600/10000\t2.2674\n",
      "6700/10000\t2.2524\n",
      "6800/10000\t2.2695\n",
      "6900/10000\t2.2638\n",
      "7000/10000\t2.2708\n",
      "7100/10000\t2.2901\n",
      "7200/10000\t2.2643\n",
      "7300/10000\t2.2775\n",
      "7400/10000\t2.2375\n",
      "7500/10000\t2.2740\n",
      "7600/10000\t2.2799\n",
      "7700/10000\t2.2545\n",
      "7800/10000\t2.2667\n",
      "7900/10000\t2.2705\n",
      "8000/10000\t2.2730\n",
      "8100/10000\t2.2603\n",
      "8200/10000\t2.2813\n",
      "8300/10000\t2.2553\n",
      "8400/10000\t2.2690\n",
      "8500/10000\t2.2524\n",
      "8600/10000\t2.2361\n",
      "8700/10000\t2.2599\n",
      "8800/10000\t2.2728\n",
      "8900/10000\t2.2558\n",
      "9000/10000\t2.2568\n",
      "9100/10000\t2.2683\n",
      "9200/10000\t2.2777\n",
      "9300/10000\t2.2844\n",
      "9400/10000\t2.2683\n",
      "9500/10000\t2.2674\n",
      "9600/10000\t2.2722\n",
      "9700/10000\t2.2660\n",
      "9800/10000\t2.2631\n",
      "9900/10000\t2.2508\n"
     ]
    }
   ],
   "source": [
    "max_steps = 10_000\n",
    "batch_size = 64\n",
    "lossi = []\n",
    "\n",
    "for step in range(max_steps):\n",
    "  \n",
    "  # minibatch construct\n",
    "  ixs = torch.randint(0, X_train.shape[0], (batch_size,))\n",
    "  Xb, Yb = X_train[ixs], Y_train[ixs]\n",
    "  \n",
    "  # forward pass\n",
    "  logits = model(Xb)\n",
    "  loss = F.cross_entropy(logits.reshape(-1, vocab_size), Yb.reshape(-1))\n",
    "  \n",
    "  # backward pass\n",
    "  for p in parameters:\n",
    "    p.grad = None\n",
    "  loss.backward()\n",
    "  \n",
    "  # update: simple SGD\n",
    "  lr = 0.1 if step < 7_000 else 0.01\n",
    "  for p in parameters:\n",
    "    p.data += -lr * p.grad # type: ignore\n",
    "  \n",
    "  # track stats\n",
    "  if step % 100 == 0:\n",
    "    print(f\"{step}/{max_steps}\\t{loss.item():.4f}\")\n",
    "  lossi.append(loss.item())"
   ]
  },
  {
   "cell_type": "code",
   "execution_count": 13,
   "metadata": {},
   "outputs": [
    {
     "data": {
      "image/png": "[encoded data removed]",
      "text/plain": [
       "<Figure size 640x480 with 1 Axes>"
      ]
     },
     "metadata": {},
     "output_type": "display_data"
    }
   ],
   "source": [
    "plt.plot(torch.tensor(lossi).view(-1, 100).mean(dim=1));"
   ]
  },
  {
   "cell_type": "code",
   "execution_count": 14,
   "metadata": {},
   "outputs": [],
   "source": [
    "@torch.no_grad() # disables gradient tracking\n",
    "def evaluate(X, Y):\n",
    "    logits = model(X)\n",
    "    loss = F.cross_entropy(logits.reshape(-1, vocab_size), Y.reshape(-1))\n",
    "    return loss.item()"
   ]
  },
  {
   "cell_type": "code",
   "execution_count": 15,
   "metadata": {},
   "outputs": [
    {
     "name": "stdout",
     "output_type": "stream",
     "text": [
      "Training split loss: 2.2636\n",
      "Development split loss: 2.2648\n"
     ]
    }
   ],
   "source": [
    "print(f\"Training split loss: {evaluate(X_train, Y_train):.4f}\")\n",
    "print(f\"Development split loss: {evaluate(X_dev, Y_dev):.4f}\")"
   ]
  },
  {
   "attachments": {},
   "cell_type": "markdown",
   "metadata": {},
   "source": [
    "Why is the loss so high?"
   ]
  },
  {
   "cell_type": "code",
   "execution_count": 16,
   "metadata": {},
   "outputs": [
    {
     "name": "stdout",
     "output_type": "stream",
     "text": [
      "Test split loss: 2.2689\n"
     ]
    }
   ],
   "source": [
    "print(f\"Test split loss: {evaluate(X_test, Y_test):.4f}\")"
   ]
  },
  {
   "cell_type": "code",
   "execution_count": 18,
   "metadata": {},
   "outputs": [
    {
     "name": "stdout",
     "output_type": "stream",
     "text": [
      "aniella\n",
      "bannel\n",
      "ckanie\n",
      "dylani\n",
      "ellani\n",
      "fann\n",
      "gevianay\n",
      "hianna\n",
      "ikani\n",
      "jhunvvromiellan\n",
      "kaniel\n",
      "lania\n",
      "mevian\n",
      "n\n",
      "oriann\n",
      "phzkenvvmrvjmlvidyllena\n",
      "qikandellan\n",
      "remiella\n",
      "shiania\n",
      "tandellan\n",
      "u\n",
      "vianna\n",
      "wynn\n",
      "xlian\n",
      "ylania\n",
      "zelania\n"
     ]
    }
   ],
   "source": [
    "with torch.no_grad():\n",
    "  g = torch.Generator().manual_seed(5)\n",
    "\n",
    "  C = model.layers[0].weights\n",
    "  rnn_cell = model.layers[1].rnn_cell\n",
    "  \n",
    "  for char in chars[2:]:\n",
    "    \n",
    "    print(char, end=\"\")\n",
    "    # char = \"<S>\"\n",
    "    a = torch.zeros(1, hidden_size)\n",
    "    out = []\n",
    "    \n",
    "    while True:\n",
    "      \n",
    "      ix = char_to_ix[char]\n",
    "      emb = C[ix]\n",
    "    \n",
    "      logits, a = rnn_cell(emb, a)\n",
    "      probs = F.softmax(logits, dim=1)\n",
    "    \n",
    "      ix = int(torch.argmax(probs).item()) \n",
    "      # multinomial(probs, num_samples=1, generator=g).item()) # why does this not work?\n",
    "      if ix==char_to_ix[\"<E>\"]:\n",
    "        break\n",
    "      char = ix_to_char[ix]\n",
    "      out.append(char)\n",
    "      \n",
    "    print(\"\".join(out))"
   ]
  }
 ],
 "metadata": {
  "kernelspec": {
   "display_name": "pytorch-env",
   "language": "python",
   "name": "python3"
  },
  "language_info": {
   "codemirror_mode": {
    "name": "ipython",
    "version": 3
   },
   "file_extension": ".py",
   "mimetype": "text/x-python",
   "name": "python",
   "nbconvert_exporter": "python",
   "pygments_lexer": "ipython3",
   "version": "3.10.11"
  },
  "orig_nbformat": 4
 },
 "nbformat": 4,
 "nbformat_minor": 2
}
