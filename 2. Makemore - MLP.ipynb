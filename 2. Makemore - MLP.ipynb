{
 "cells": [
  {
   "attachments": {},
   "cell_type": "markdown",
   "metadata": {},
   "source": [
    "# MLP Model"
   ]
  },
  {
   "attachments": {},
   "cell_type": "markdown",
   "metadata": {},
   "source": [
    "**Original paper**\n",
    "- Word level language model (with 17000 possible words)\n",
    "- Embeds all the words into a 30 dimensional space (each word has an associated 30 dimensional feature vector)\n",
    "- Trains these embeddings with backpropagation (they are treated as a parameter of the neural network)\n",
    "- Trains the network using negative log likelihood loss just like before\n",
    "- Network structure:\n",
    "    - Embedding matrix of shape (17000, 30)\n",
    "    - Tanh layer with 90 inputs (3 words) and `N` outputs\n",
    "    - Softmax layer with `N` inputs and 17000 outputs"
   ]
  },
  {
   "attachments": {},
   "cell_type": "markdown",
   "metadata": {},
   "source": [
    "### Setup"
   ]
  },
  {
   "cell_type": "code",
   "execution_count": 1,
   "metadata": {},
   "outputs": [],
   "source": [
    "import torch\n",
    "import torch.nn.functional as F\n",
    "import matplotlib.pyplot as plt\n",
    "\n",
    "torch.set_printoptions(linewidth=140)\n"
   ]
  },
  {
   "cell_type": "code",
   "execution_count": 2,
   "metadata": {},
   "outputs": [
    {
     "name": "stdout",
     "output_type": "stream",
     "text": [
      "First few words: ['emma', 'olivia', 'ava', 'isabella', 'sophia']\n",
      "Number of words: 32033\n"
     ]
    }
   ],
   "source": [
    "words = open(\"names.txt\", \"r\").read().splitlines()\n",
    "print(f\"First few words: {words[:5]}\\nNumber of words: {len(words)}\")"
   ]
  },
  {
   "cell_type": "code",
   "execution_count": 3,
   "metadata": {},
   "outputs": [],
   "source": [
    "chars = [\".\"] + sorted(set(\"\".join(words)))\n",
    "char_to_ix = {s: i for i, s in enumerate(chars)}\n",
    "ix_to_char = {i: s for s, i in char_to_ix.items()}"
   ]
  },
  {
   "attachments": {},
   "cell_type": "markdown",
   "metadata": {},
   "source": [
    "### Creating the training dataset"
   ]
  },
  {
   "cell_type": "code",
   "execution_count": 4,
   "metadata": {},
   "outputs": [
    {
     "name": "stdout",
     "output_type": "stream",
     "text": [
      "X.shape=torch.Size([32, 3])\tX.dtype=torch.int64\n",
      "Y.shape=torch.Size([32])\tY.dtype=torch.int64\n"
     ]
    }
   ],
   "source": [
    "block_size = 3\n",
    "X, Y = [], []\n",
    "\n",
    "for word in words[:5]: # just 5 for now\n",
    "    padded_word = [\".\"] * block_size + list(word) + [\".\"]\n",
    "    for i in range(len(padded_word)-block_size):\n",
    "        context = [char_to_ix[char] for char in padded_word[i:i+block_size]]\n",
    "        target = char_to_ix[padded_word[i+block_size]]\n",
    "        X.append(context), Y.append(target)\n",
    "\n",
    "X, Y = torch.tensor(X), torch.tensor(Y)\n",
    "print(f\"{X.shape=}\\t{X.dtype=}\\n{Y.shape=}\\t{Y.dtype=}\")"
   ]
  },
  {
   "attachments": {},
   "cell_type": "markdown",
   "metadata": {},
   "source": [
    "### Building the network piece by piece\n",
    "- Each of the 27 characters will be embedded in a 2 dimensional space\n",
    "- Pass the concatenated embeddings of the context into a hidden layer\n",
    "- Pass the output of the hidden layer into an output layer that outputs logits\n",
    "    - Pass the logits into a softmax layer to get the probability distributions for prediction\n",
    "    - Use the logits and the targets to compute the cross entropy loss for training\n",
    "\n",
    "**Technical tips:**\n",
    "- Matrix multiplication with one-hot-encoding is the same as indexing\n",
    "- PyTorch indexing is very flexible\n",
    "- Unbinding and concatinating can be done more efficiently with view (see this [pytorch internals blog post](http://blog.ezyang.com/2019/05/pytorch-internals/) for more details)\n",
    "- View and reshape are very similar (reshape calls view when possible)\n",
    "- Be careful when broadcasting (allign the dimensions from the right and check if its doing what you want it to do)\n",
    "- Using builtin pytorch cross-entropy loss function is computationally faster and more numerically stable"
   ]
  },
  {
   "cell_type": "code",
   "execution_count": 5,
   "metadata": {},
   "outputs": [
    {
     "name": "stdout",
     "output_type": "stream",
     "text": [
      "X.shape=torch.Size([32, 3])\n",
      "Y.shape=torch.Size([32])\n"
     ]
    }
   ],
   "source": [
    "print(f\"{X.shape=}\\n{Y.shape=}\") # this is our training sample (with batch dimension of 32)"
   ]
  },
  {
   "cell_type": "code",
   "execution_count": 6,
   "metadata": {},
   "outputs": [
    {
     "name": "stdout",
     "output_type": "stream",
     "text": [
      "C.shape=torch.Size([27, 2])\n"
     ]
    }
   ],
   "source": [
    "embedding_size = 2\n",
    "C = torch.randn((len(chars), embedding_size)) # this is the embedding matrix\n",
    "print(f\"{C.shape=}\")"
   ]
  },
  {
   "cell_type": "code",
   "execution_count": 7,
   "metadata": {},
   "outputs": [
    {
     "name": "stdout",
     "output_type": "stream",
     "text": [
      "emb.shape=torch.Size([32, 3, 2])\n"
     ]
    }
   ],
   "source": [
    "emb = C[X] # this is the embedded training data\n",
    "print(f\"{emb.shape=}\")"
   ]
  },
  {
   "cell_type": "code",
   "execution_count": 8,
   "metadata": {},
   "outputs": [
    {
     "name": "stdout",
     "output_type": "stream",
     "text": [
      "h_in.shape=torch.Size([32, 6])\n"
     ]
    }
   ],
   "source": [
    "h_in = emb.view(-1, block_size*embedding_size) # this is what we will pass to the hidden layer\n",
    "print(f\"{h_in.shape=}\")"
   ]
  },
  {
   "cell_type": "code",
   "execution_count": 9,
   "metadata": {},
   "outputs": [
    {
     "name": "stdout",
     "output_type": "stream",
     "text": [
      "W1.shape=torch.Size([6, 100])\n",
      "b1.shape=torch.Size([100])\n"
     ]
    }
   ],
   "source": [
    "hidden_layer_size = 100\n",
    "W1 = torch.randn((block_size*embedding_size, hidden_layer_size))\n",
    "b1 = torch.randn(hidden_layer_size)\n",
    "print(f\"{W1.shape=}\\n{b1.shape=}\")"
   ]
  },
  {
   "cell_type": "code",
   "execution_count": 10,
   "metadata": {},
   "outputs": [
    {
     "name": "stdout",
     "output_type": "stream",
     "text": [
      "h_out.shape=torch.Size([32, 100])\n"
     ]
    }
   ],
   "source": [
    "h_out = torch.tanh(h_in @ W1 + b1) # hidden layer output (be careful when broadcasting)\n",
    "print(f\"{h_out.shape=}\")"
   ]
  },
  {
   "cell_type": "code",
   "execution_count": 11,
   "metadata": {},
   "outputs": [
    {
     "name": "stdout",
     "output_type": "stream",
     "text": [
      "W2.shape=torch.Size([100, 27])\n",
      "b2.shape=torch.Size([27])\n"
     ]
    }
   ],
   "source": [
    "W2 = torch.randn((hidden_layer_size, len(chars)))\n",
    "b2 = torch.randn((len(chars)))\n",
    "print(f\"{W2.shape=}\\n{b2.shape=}\")"
   ]
  },
  {
   "cell_type": "code",
   "execution_count": 12,
   "metadata": {},
   "outputs": [
    {
     "name": "stdout",
     "output_type": "stream",
     "text": [
      "logits.shape=torch.Size([32, 27])\n"
     ]
    }
   ],
   "source": [
    "logits = h_out @ W2 + b2 # output of the neural network\n",
    "print(f\"{logits.shape=}\")"
   ]
  },
  {
   "cell_type": "code",
   "execution_count": 13,
   "metadata": {},
   "outputs": [
    {
     "name": "stdout",
     "output_type": "stream",
     "text": [
      "probs.shape=torch.Size([32, 27])\n"
     ]
    }
   ],
   "source": [
    "probs = torch.softmax(logits, dim=1)\n",
    "print(f\"{probs.shape=}\")"
   ]
  },
  {
   "cell_type": "code",
   "execution_count": 14,
   "metadata": {},
   "outputs": [
    {
     "data": {
      "text/plain": [
       "tensor(19.7805)"
      ]
     },
     "execution_count": 14,
     "metadata": {},
     "output_type": "execute_result"
    }
   ],
   "source": [
    "loss = F.cross_entropy(logits, Y)\n",
    "loss"
   ]
  },
  {
   "cell_type": "code",
   "execution_count": 15,
   "metadata": {},
   "outputs": [
    {
     "data": {
      "text/plain": [
       "tensor(19.7805)"
      ]
     },
     "execution_count": 15,
     "metadata": {},
     "output_type": "execute_result"
    }
   ],
   "source": [
    "probs = logits.exp() / logits.exp().sum(dim=1, keepdims=True)\n",
    "loss = -probs[torch.arange(32), Y].log().mean()\n",
    "loss"
   ]
  },
  {
   "attachments": {},
   "cell_type": "markdown",
   "metadata": {},
   "source": [
    "### Putting everything together\n",
    "- Minibatches speed up training since it reduces the number of computations for each training step. \n",
    "- However, the gradient direction for a minibatch may be different from the gradient direction of the complete training-set. \n",
    "- We can update the parameters according to the gradient of the minibatch and this should be similar to the gradient of the entire training set on average. This is known as **stochastic gradient descent**."
   ]
  },
  {
   "cell_type": "code",
   "execution_count": 16,
   "metadata": {},
   "outputs": [],
   "source": [
    "block_size = 3\n",
    "embedding_size = 2\n",
    "hidden_layer_size = 100"
   ]
  },
  {
   "cell_type": "code",
   "execution_count": 17,
   "metadata": {},
   "outputs": [
    {
     "name": "stdout",
     "output_type": "stream",
     "text": [
      "X.shape=torch.Size([228146, 3])\tX.dtype=torch.int64\n",
      "Y.shape=torch.Size([228146])\tY.dtype=torch.int64\n"
     ]
    }
   ],
   "source": [
    "X, Y = [], []\n",
    "\n",
    "for word in words:\n",
    "    padded_word = [\".\"] * block_size + list(word) + [\".\"]\n",
    "    for i in range(len(padded_word)-block_size):\n",
    "        context = [char_to_ix[char] for char in padded_word[i:i+block_size]]\n",
    "        target = char_to_ix[padded_word[i+block_size]]\n",
    "        X.append(context), Y.append(target)\n",
    "\n",
    "X, Y = torch.tensor(X), torch.tensor(Y)\n",
    "print(f\"{X.shape=}\\t{X.dtype=}\\n{Y.shape=}\\t{Y.dtype=}\")"
   ]
  },
  {
   "cell_type": "code",
   "execution_count": 18,
   "metadata": {},
   "outputs": [],
   "source": [
    "# initialize parameters\n",
    "g = torch.Generator().manual_seed(5)\n",
    "C = torch.randn((len(chars), embedding_size), requires_grad=True, generator=g)\n",
    "W1 = torch.randn((block_size*embedding_size, hidden_layer_size), requires_grad=True, generator=g)\n",
    "b1 = torch.randn(hidden_layer_size, requires_grad=True, generator=g)\n",
    "W2 = torch.randn((hidden_layer_size, len(chars)), requires_grad=True, generator=g)\n",
    "b2 = torch.randn((len(chars)), requires_grad=True, generator=g)\n",
    "parameters = [C, W1, b1, W2, b2]"
   ]
  },
  {
   "cell_type": "code",
   "execution_count": 19,
   "metadata": {},
   "outputs": [
    {
     "name": "stdout",
     "output_type": "stream",
     "text": [
      "0:\t16.043237686157227\n",
      "1:\t12.213603973388672\n",
      "2:\t11.371526718139648\n",
      "3:\t12.366456985473633\n",
      "4:\t12.38438606262207\n",
      "5:\t9.539551734924316\n",
      "6:\t10.788346290588379\n",
      "7:\t10.159205436706543\n",
      "8:\t8.514666557312012\n",
      "9:\t9.346335411071777\n",
      "10:\t7.975589752197266\n",
      "11:\t9.973198890686035\n",
      "12:\t8.773650169372559\n",
      "13:\t7.185835361480713\n",
      "14:\t5.91326904296875\n",
      "15:\t8.310028076171875\n",
      "16:\t10.363814353942871\n",
      "17:\t6.830173969268799\n",
      "18:\t5.900486946105957\n",
      "19:\t5.637796878814697\n",
      "20:\t6.246935844421387\n",
      "21:\t6.839103698730469\n",
      "22:\t6.669023036956787\n",
      "23:\t6.678976058959961\n",
      "24:\t6.45774507522583\n",
      "25:\t7.875441074371338\n",
      "26:\t5.096419334411621\n",
      "27:\t6.563788890838623\n",
      "28:\t7.150516033172607\n",
      "29:\t5.417165279388428\n",
      "30:\t5.453258514404297\n",
      "31:\t6.345064163208008\n",
      "32:\t5.528562545776367\n",
      "33:\t5.7843017578125\n",
      "34:\t5.994226455688477\n",
      "35:\t6.867105007171631\n",
      "36:\t5.612514019012451\n",
      "37:\t3.848315477371216\n",
      "38:\t4.725233554840088\n",
      "39:\t4.490649700164795\n",
      "40:\t4.890439510345459\n",
      "41:\t6.004271984100342\n",
      "42:\t5.233211994171143\n",
      "43:\t4.633263111114502\n",
      "44:\t5.289414882659912\n",
      "45:\t4.591156482696533\n",
      "46:\t4.620658874511719\n",
      "47:\t4.940711975097656\n",
      "48:\t3.7276358604431152\n",
      "49:\t4.821734428405762\n",
      "50:\t6.662939548492432\n",
      "51:\t3.797973394393921\n",
      "52:\t4.05837869644165\n",
      "53:\t4.807597637176514\n",
      "54:\t4.429687023162842\n",
      "55:\t4.183901786804199\n",
      "56:\t4.290339469909668\n",
      "57:\t4.746011734008789\n",
      "58:\t4.422384738922119\n",
      "59:\t3.8090415000915527\n",
      "60:\t4.176255702972412\n",
      "61:\t3.9741735458374023\n",
      "62:\t4.636064052581787\n",
      "63:\t4.425020694732666\n",
      "64:\t3.329972505569458\n",
      "65:\t3.340830087661743\n",
      "66:\t4.004637241363525\n",
      "67:\t3.8182590007781982\n",
      "68:\t4.103099822998047\n",
      "69:\t3.2221546173095703\n",
      "70:\t3.4598395824432373\n",
      "71:\t3.5922393798828125\n",
      "72:\t3.5894980430603027\n",
      "73:\t3.0844790935516357\n",
      "74:\t3.779897451400757\n",
      "75:\t2.9321274757385254\n",
      "76:\t3.6357433795928955\n",
      "77:\t5.248446464538574\n",
      "78:\t4.012392520904541\n",
      "79:\t3.360724687576294\n",
      "80:\t4.341249942779541\n",
      "81:\t3.696143627166748\n",
      "82:\t4.0627241134643555\n",
      "83:\t3.3912062644958496\n",
      "84:\t3.49692702293396\n",
      "85:\t3.8197927474975586\n",
      "86:\t4.3590407371521\n",
      "87:\t3.413821220397949\n",
      "88:\t3.5067830085754395\n",
      "89:\t2.730252265930176\n",
      "90:\t4.203134536743164\n",
      "91:\t3.7030375003814697\n",
      "92:\t3.182544469833374\n",
      "93:\t2.689493417739868\n",
      "94:\t3.6356964111328125\n",
      "95:\t2.7483716011047363\n",
      "96:\t2.9897234439849854\n",
      "97:\t4.0004730224609375\n",
      "98:\t3.0918688774108887\n",
      "99:\t3.7573328018188477\n"
     ]
    }
   ],
   "source": [
    "for step in range(100):\n",
    "    \n",
    "    # minibatch construct\n",
    "    ix = torch.randint(0, X.shape[0], (32,)) # 32 random indices from the training-set\n",
    "    \n",
    "    # forward pass\n",
    "    emb = C[X[ix]]\n",
    "    h_in = emb.view(-1, block_size*embedding_size)\n",
    "    h_out = torch.tanh(h_in @ W1 + b1)\n",
    "    logits = h_out @ W2 + b2\n",
    "    loss = F.cross_entropy(logits, Y[ix])\n",
    "    \n",
    "    # backward pass\n",
    "    for p in parameters:\n",
    "        p.grad = None\n",
    "    loss.backward()\n",
    "    \n",
    "    # update\n",
    "    for p in parameters:\n",
    "        p.data -= 0.1 * p.grad\n",
    "    \n",
    "    # print\n",
    "    print(f\"{step}:\\t{loss.item()}\")"
   ]
  },
  {
   "attachments": {},
   "cell_type": "markdown",
   "metadata": {},
   "source": [
    "### Finding a good learning rate\n",
    "**Step 1:** Find a reasonable search range\n",
    "- Try a bunch of learning rates (at different orders of magnitude) and find a reasonable search range\n",
    "    - The lower bound should be something that decreases the loss but not too quikly\n",
    "    - The highigher should be something that causes the loss to be unstable or even explode\n",
    "- In this case we got `0.001` as the lower bound and `0.1` as the upper bound\n",
    "\n",
    "**Step 2:** Iterate through the network with exponentially increasing learning rates from within the search range and keep track of the loss. Graph the learning rate vs the loss and see where it starts to become unstable. A good learning rate is just before that."
   ]
  },
  {
   "cell_type": "code",
   "execution_count": 20,
   "metadata": {},
   "outputs": [],
   "source": [
    "# initialize parameters\n",
    "g = torch.Generator().manual_seed(5)\n",
    "C = torch.randn((len(chars), embedding_size), requires_grad=True, generator=g)\n",
    "W1 = torch.randn((block_size*embedding_size, hidden_layer_size), requires_grad=True, generator=g)\n",
    "b1 = torch.randn(hidden_layer_size, requires_grad=True, generator=g)\n",
    "W2 = torch.randn((hidden_layer_size, len(chars)), requires_grad=True, generator=g)\n",
    "b2 = torch.randn((len(chars)), requires_grad=True, generator=g)\n",
    "parameters = [C, W1, b1, W2, b2]\n",
    "\n",
    "# candidate learning rates that we want to search over\n",
    "lrs = torch.logspace(start=-3, end=0, steps=1000) # or use `torch.logspace`\n",
    "\n",
    "loss_i = []\n",
    "for i in range(len(lrs)):\n",
    "    \n",
    "    # minibatch construct\n",
    "    ix = torch.randint(0, X.shape[0], (32,))\n",
    "    \n",
    "    # forward pass\n",
    "    emb = C[X[ix]]\n",
    "    h_in = emb.view(-1, block_size*embedding_size)\n",
    "    h_out = torch.tanh(h_in @ W1 + b1)\n",
    "    logits = h_out @ W2 + b2\n",
    "    loss = F.cross_entropy(logits, Y[ix])\n",
    "    \n",
    "    # backward pass\n",
    "    for p in parameters:\n",
    "        p.grad = None\n",
    "    loss.backward()\n",
    "    \n",
    "    # update\n",
    "    for p in parameters:\n",
    "        p.data -= lrs[i] * p.grad\n",
    "    \n",
    "    # track stats\n",
    "    loss_i.append(loss.item())"
   ]
  },
  {
   "cell_type": "code",
   "execution_count": 21,
   "metadata": {},
   "outputs": [
    {
     "data": {
      "image/png": "[encoded data removed]",
      "text/plain": [
       "<Figure size 1200x500 with 1 Axes>"
      ]
     },
     "metadata": {},
     "output_type": "display_data"
    }
   ],
   "source": [
    "plt.figure(figsize=(12,5)); plt.title(\"Learning rate vs Loss\"); plt.plot(lrs, loss_i); plt.grid(); plt.xscale(\"log\");"
   ]
  },
  {
   "attachments": {},
   "cell_type": "markdown",
   "metadata": {},
   "source": [
    "A good learning rate turns out to be near `0.1`"
   ]
  },
  {
   "attachments": {},
   "cell_type": "markdown",
   "metadata": {},
   "source": [
    "### Train-val-test split\n",
    "- Neural network models can get very large with many parameters. As the capacity of the network grows, it becomes more an more capable of **overfitting** (i.e. memorising the dataset).\n",
    "- The solution is to split up the data into the training split, dev/validation split, and the test split\n",
    "    - The **training split** is used to **optimize the parameters** of the model\n",
    "    - The **dev/validation** split is used for **development over the hyperparameters** (e.g size of the embedding, strength of regularization, etc.)\n",
    "    - The **test split** is used to **evaluate the performance** (therefore you should only evaluate the loss on the test set sparingly)\n",
    "- A common ratio for splitting the data `80:10:10`"
   ]
  },
  {
   "cell_type": "code",
   "execution_count": 22,
   "metadata": {},
   "outputs": [],
   "source": [
    "def build_dataset(words, block_size=3, verbose=False):\n",
    "    X, Y = [], []\n",
    "    for word in words:\n",
    "        padded_word = [\".\"] * block_size + list(word) + [\".\"]\n",
    "        for i in range(len(padded_word)-block_size):\n",
    "            context = [char_to_ix[char] for char in padded_word[i:i+block_size]]\n",
    "            target = char_to_ix[padded_word[i+block_size]]\n",
    "            X.append(context), Y.append(target)\n",
    "    X, Y = torch.tensor(X), torch.tensor(Y)\n",
    "    if verbose:\n",
    "        print(f\"{X.shape}\\t{Y.shape}\")\n",
    "    return X, Y"
   ]
  },
  {
   "cell_type": "code",
   "execution_count": 23,
   "metadata": {},
   "outputs": [
    {
     "name": "stdout",
     "output_type": "stream",
     "text": [
      "torch.Size([182558, 3])\ttorch.Size([182558])\n",
      "torch.Size([22712, 3])\ttorch.Size([22712])\n",
      "torch.Size([22876, 3])\ttorch.Size([22876])\n"
     ]
    }
   ],
   "source": [
    "import random; random.seed(5)\n",
    "random.shuffle(words)\n",
    "n1 = int(0.8*len(words))\n",
    "n2 = int(0.9*len(words))\n",
    "\n",
    "X_tr, Y_tr = build_dataset(words[:n1], verbose=True)\n",
    "X_dev, Y_dev = build_dataset(words[n1:n2], verbose=True)\n",
    "X_te, Y_te = build_dataset(words[n2:], verbose=True)"
   ]
  },
  {
   "attachments": {},
   "cell_type": "markdown",
   "metadata": {},
   "source": [
    "### Training for longer\n",
    "**Tip:** Lower the learning rate by `10x` during the late stages of training, this is known as **learning rate decay**"
   ]
  },
  {
   "cell_type": "code",
   "execution_count": 24,
   "metadata": {},
   "outputs": [],
   "source": [
    "for step in range(30_000):\n",
    "    \n",
    "    # minibatch construct\n",
    "    ix = torch.randint(0, X_tr.shape[0], (32,)) # 32 random indices from the training-set\n",
    "    \n",
    "    # forward pass\n",
    "    emb = C[X_tr[ix]]\n",
    "    h_in = emb.view(-1, block_size*embedding_size)\n",
    "    h_out = torch.tanh(h_in @ W1 + b1)\n",
    "    logits = h_out @ W2 + b2\n",
    "    loss = F.cross_entropy(logits, Y_tr[ix])\n",
    "    \n",
    "    # backward pass\n",
    "    for p in parameters:\n",
    "        p.grad = None\n",
    "    loss.backward()\n",
    "    \n",
    "    # update\n",
    "    for p in parameters:\n",
    "        p.data -= 0.1 * p.grad # start with 0.1 and move to 0.01 after some time"
   ]
  },
  {
   "cell_type": "code",
   "execution_count": 25,
   "metadata": {},
   "outputs": [],
   "source": [
    "def evaluate(X, Y):\n",
    "    emb = C[X]\n",
    "    h_in = emb.view(-1, block_size*embedding_size)\n",
    "    h_out = torch.tanh(h_in @ W1 + b1)\n",
    "    logits = h_out @ W2 + b2\n",
    "    loss = F.cross_entropy(logits, Y)\n",
    "    return loss.item()"
   ]
  },
  {
   "cell_type": "code",
   "execution_count": 26,
   "metadata": {},
   "outputs": [
    {
     "data": {
      "text/plain": [
       "2.3836560249328613"
      ]
     },
     "execution_count": 26,
     "metadata": {},
     "output_type": "execute_result"
    }
   ],
   "source": [
    "evaluate(X_tr, Y_tr)\n",
    "evaluate(X_dev, Y_dev)"
   ]
  },
  {
   "attachments": {},
   "cell_type": "markdown",
   "metadata": {},
   "source": [
    "### Visualizing 2-dimensional embeddings"
   ]
  },
  {
   "cell_type": "code",
   "execution_count": 27,
   "metadata": {},
   "outputs": [
    {
     "data": {
      "image/png": "[encoded data removed]",
      "text/plain": [
       "<Figure size 400x400 with 1 Axes>"
      ]
     },
     "metadata": {},
     "output_type": "display_data"
    }
   ],
   "source": [
    "plt.figure(figsize=(4, 4))\n",
    "plt.scatter(C[:,0].data, C[:,1].data, s=100, color='gray', alpha=0.5)\n",
    "for i in range(C.shape[0]):\n",
    "    plt.text(C[i,0].item(), C[i,1].item(), ix_to_char[i], ha=\"center\", va=\"center\", color='black')\n",
    "plt.grid('minor')"
   ]
  },
  {
   "attachments": {},
   "cell_type": "markdown",
   "metadata": {},
   "source": [
    "### Sampling from the model"
   ]
  },
  {
   "cell_type": "code",
   "execution_count": 28,
   "metadata": {},
   "outputs": [
    {
     "name": "stdout",
     "output_type": "stream",
     "text": [
      "kariu\tdipalau\tsha\tgamio\tmaih\tbrili\tdafp\tkonien\tmisioa\tmedan\tducin\tarnseestufsicheranyl\tnoy\tkiod\tcoshit\taaseta\trlisianto\tgaly\tprgt\tzatginittynessinreha\t"
     ]
    }
   ],
   "source": [
    "g = torch.Generator().manual_seed(5)\n",
    "\n",
    "for _ in range(20):\n",
    "    context = [\".\"] * block_size\n",
    "    out = []\n",
    "    while True:\n",
    "        emb = C[torch.tensor([char_to_ix[char] for char in context])]\n",
    "        h_in = emb.view(-1, block_size * embedding_size)\n",
    "        h_out = torch.tanh(h_in @ W1 + b1)\n",
    "        logits = h_out @ W2 + b2\n",
    "        probs = F.softmax(logits, dim=1)\n",
    "\n",
    "        ix = torch.multinomial(probs, num_samples=1, generator=g).item()\n",
    "        if ix==0:\n",
    "            break\n",
    "        char = ix_to_char[ix]\n",
    "        context = context[1:] + [char]\n",
    "        out.append(char)\n",
    "    print(\"\".join(out), end=\"\\t\")"
   ]
  }
 ],
 "metadata": {
  "kernelspec": {
   "display_name": "pytorch-env",
   "language": "python",
   "name": "python3"
  },
  "language_info": {
   "codemirror_mode": {
    "name": "ipython",
    "version": 3
   },
   "file_extension": ".py",
   "mimetype": "text/x-python",
   "name": "python",
   "nbconvert_exporter": "python",
   "pygments_lexer": "ipython3",
   "version": "3.10.11"
  },
  "orig_nbformat": 4
 },
 "nbformat": 4,
 "nbformat_minor": 2
}
