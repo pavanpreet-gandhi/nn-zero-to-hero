{
 "cells": [
  {
   "attachments": {},
   "cell_type": "markdown",
   "metadata": {},
   "source": [
    "# WaveNet"
   ]
  },
  {
   "attachments": {},
   "cell_type": "markdown",
   "metadata": {},
   "source": [
    "## Notes\n",
    "- **Plot the average loss accross steps:**\n",
    "  - Instead of plotting the loss directly, it is often more useful to plot the average loss over multiple steps since this eliminates the noise due to minibatches. \n",
    "  - This can be achieved as follows: `plt.plot(torch.tensor(lossi).view(-1, 1000).mean(dim=1));`.\n",
    "- **PyTorch-ification:**\n",
    "  - The modules that we have implemented are very similar to `torch.nn` which is a neural networks API that is built ontop of `torch.tensor`.\n",
    "  - Each layer can be wrapped up in a PyTorch style `nn.Module` container with the following methods: `__init__`, `__call__`, and `parameters`.\n",
    "  - The layers can be stacked with a Pytorch style `nn.Sequential` container, which sequentially calls a list of layers. This allows us to wrap the whole network in a single container.\n",
    "- **Matrix multiplication of higher order tensors:**\n",
    "  - The matrix multiplication operation in PyTorch is quite powerful, and works with higher order tensors as well (not just matrices). The matrix multiplication acts only on the last dimension (and all the other dimensions remain unchanged). This is effectively like **adding more batch dimensions**.\n",
    "  - E.g `(4, 5, 80) @ (80, 200) + (200,) = (4, 5, 200)`; where `(4, 5, 80)` is the input to the layer, `(80, 200)` are the weights, `(200,)` is the bias, and `(4, 5, 80)` is the output of the layer. In this example, the dimensions at index 0 and 1 are treated as batch dimensions, and the matrix multiplication acts on dimension 2.\n",
    "- **Convolutions in the original WaveNet paper:**\n",
    "  - The original WaveNet paper uses **convolutions over a single training sequence** to make training more **efficient** (in our case this is a single name from the training set). The network is convolved with the training sequence so that the overlapping outputs of the intermediate layers can be reused and the GPU can perform calculations in paralell. \n",
    "  - See *figure 3* from the [original wavenet paper](https://arxiv.org/pdf/1609.03499.pdf) (this is what we implemented).\n",
    "  - What we have implemented is a heirachical neural network.\n",
    "- **Development process:**\n",
    "  - The development process of neural networks usually involves lots of reading of the PyTorch documentation, especiallly about dimension sizes and implementation details. Note that the documentation is is sometimes inaccurate.\n",
    "  - There's a lot of stuff to do with shapes of tensors. It is often helpful to develop in a jupyter notebook, and then move the code over to python files to do experimentation.\n",
    "  - Normally you look at the training and validation loss together and optimize on hyperparameters. This involves hyperparameter searches, python scripts with lots of arguments, lots of running experiments, looking at lots of plots, etc. all to see what works well and what doesn't.\n",
    "  - In other words you would be working on the **population level** and this is what's referred to as a **training harness**. Setting this up and making it work well is a whole other topic."
   ]
  },
  {
   "cell_type": "code",
   "execution_count": 1,
   "metadata": {},
   "outputs": [],
   "source": [
    "import torch\n",
    "import torch.nn.functional as F\n",
    "import matplotlib.pyplot as plt\n",
    "import random\n",
    "\n",
    "torch.set_printoptions(linewidth=140)"
   ]
  },
  {
   "cell_type": "code",
   "execution_count": 2,
   "metadata": {},
   "outputs": [
    {
     "name": "stdout",
     "output_type": "stream",
     "text": [
      "First few words: ['emma', 'olivia', 'ava', 'isabella', 'sophia']\n",
      "Number of words: 32033\n"
     ]
    }
   ],
   "source": [
    "words = open(\"names.txt\", \"r\").read().splitlines()\n",
    "print(f\"First few words: {words[:5]}\\nNumber of words: {len(words)}\")"
   ]
  },
  {
   "cell_type": "code",
   "execution_count": 3,
   "metadata": {},
   "outputs": [],
   "source": [
    "chars = [\".\"] + sorted(set(\"\".join(words)))\n",
    "char_to_ix = {s: i for i, s in enumerate(chars)}\n",
    "ix_to_char = {i: s for s, i in char_to_ix.items()}\n",
    "vocab_size = len(chars)"
   ]
  },
  {
   "cell_type": "code",
   "execution_count": 4,
   "metadata": {},
   "outputs": [],
   "source": [
    "block_size = 6"
   ]
  },
  {
   "cell_type": "code",
   "execution_count": 5,
   "metadata": {},
   "outputs": [],
   "source": [
    "def build_dataset(words, block_size=3, verbose=False):\n",
    "  X, Y = [], []\n",
    "  for word in words:\n",
    "    padded_word = [\".\"] * block_size + list(word) + [\".\"]\n",
    "    for i in range(len(padded_word)-block_size):\n",
    "      context = [char_to_ix[char] for char in padded_word[i:i+block_size]]\n",
    "      target = char_to_ix[padded_word[i+block_size]]\n",
    "      X.append(context)\n",
    "      Y.append(target)\n",
    "  X, Y = torch.tensor(X), torch.tensor(Y)\n",
    "  if verbose:\n",
    "    print(f\"{X.shape}\\t{Y.shape}\")\n",
    "  return X, Y"
   ]
  },
  {
   "cell_type": "code",
   "execution_count": 6,
   "metadata": {},
   "outputs": [],
   "source": [
    "random.seed(42)\n",
    "random.shuffle(words)\n",
    "n1 = int(0.8*len(words))\n",
    "n2 = int(0.9*len(words))"
   ]
  },
  {
   "cell_type": "code",
   "execution_count": 7,
   "metadata": {},
   "outputs": [
    {
     "name": "stdout",
     "output_type": "stream",
     "text": [
      "torch.Size([182625, 6])\ttorch.Size([182625])\n",
      "torch.Size([22655, 6])\ttorch.Size([22655])\n",
      "torch.Size([22866, 6])\ttorch.Size([22866])\n"
     ]
    }
   ],
   "source": [
    "X_train, Y_train = build_dataset(words[:n1], block_size=block_size, verbose=True)\n",
    "X_dev, Y_dev = build_dataset(words[n1:n2], block_size=block_size, verbose=True)\n",
    "X_test, Y_test = build_dataset(words[n2:], block_size=block_size, verbose=True)"
   ]
  },
  {
   "cell_type": "code",
   "execution_count": 8,
   "metadata": {},
   "outputs": [
    {
     "name": "stdout",
     "output_type": "stream",
     "text": [
      "...... --> y\n",
      ".....y --> u\n",
      "....yu --> h\n",
      "...yuh --> e\n",
      "..yuhe --> n\n",
      ".yuhen --> g\n",
      "yuheng --> .\n",
      "...... --> d\n",
      ".....d --> i\n",
      "....di --> o\n"
     ]
    }
   ],
   "source": [
    "for x, y in zip(X_train[:10], Y_train[:10]):\n",
    "  print(''.join(ix_to_char[int(ix.item())] for ix in x), '-->', ix_to_char[int(y.item())])"
   ]
  },
  {
   "cell_type": "code",
   "execution_count": 9,
   "metadata": {},
   "outputs": [],
   "source": [
    "class Linear:\n",
    "  \n",
    "  def __init__(self, fan_in, fan_out, bias=True):\n",
    "    self.weight = torch.randn((fan_in, fan_out)) / fan_in**0.5 # note: kaiming init\n",
    "    self.bias = torch.zeros(fan_out) if bias else None\n",
    "  \n",
    "  def __call__(self, x):\n",
    "    self.out = x @ self.weight\n",
    "    if self.bias is not None:\n",
    "      self.out += self.bias\n",
    "    return self.out\n",
    "  \n",
    "  def parameters(self):\n",
    "    return [self.weight] + ([] if self.bias is None else [self.bias])\n",
    "\n",
    "\n",
    "class BatchNorm1d:\n",
    "  \n",
    "  def __init__(self, dim, eps=1e-5, momentum=0.1):\n",
    "    self.eps = eps\n",
    "    self.momentum = momentum\n",
    "    self.training = True\n",
    "    # parameters (trained with backprop)\n",
    "    self.gamma = torch.ones(dim)\n",
    "    self.beta = torch.zeros(dim)\n",
    "    # buffers (trained with a running 'momentum update')\n",
    "    self.running_mean = torch.zeros(dim)\n",
    "    self.running_var = torch.ones(dim)\n",
    "  \n",
    "  def __call__(self, x):\n",
    "    # calculate the forward pass\n",
    "    if self.training:\n",
    "      # note this is different from PyTorch which expects the sequence dimension to be in the middle\n",
    "      if x.ndim == 3:\n",
    "        dim = (0,1) # since we want to calculate the mean across all \"batch\" dimensions\n",
    "      else:\n",
    "        dim = 0 # default batch dimension is just 0\n",
    "      xmean = x.mean(dim, keepdim=True) # batch mean\n",
    "      xvar = x.var(dim, keepdim=True) # batch variance\n",
    "    else:\n",
    "      xmean = self.running_mean\n",
    "      xvar = self.running_var\n",
    "    xhat = (x - xmean) / torch.sqrt(xvar + self.eps) # normalize to unit variance\n",
    "    self.out = self.gamma * xhat + self.beta\n",
    "    # update the buffers\n",
    "    if self.training:\n",
    "      with torch.no_grad():\n",
    "        self.running_mean = (1 - self.momentum) * self.running_mean + self.momentum * xmean\n",
    "        self.running_var = (1 - self.momentum) * self.running_var + self.momentum * xvar\n",
    "    return self.out\n",
    "  \n",
    "  def parameters(self):\n",
    "    return [self.gamma, self.beta]\n",
    "\n",
    "\n",
    "class Tanh:\n",
    "  \n",
    "  def __init__(self):\n",
    "    pass\n",
    "  \n",
    "  def __call__(self, x):\n",
    "    self.out = torch.tanh(x)\n",
    "    return self.out\n",
    "\n",
    "  def parameters(self):\n",
    "    return []\n",
    "\n",
    "\n",
    "class Embedding:\n",
    "  \n",
    "  def __init__(self, num_embeddings, embedding_dim):\n",
    "    self.weights = torch.randn((num_embeddings, embedding_dim))\n",
    "  \n",
    "  def __call__(self, IX):\n",
    "    self.out = self.weights[IX]\n",
    "    return self.out\n",
    "  \n",
    "  def parameters(self):\n",
    "    return [self.weights]\n",
    "\n",
    "\n",
    "class Flatten:\n",
    "  \n",
    "  def __init__(self):\n",
    "    pass\n",
    "  \n",
    "  def __call__(self, x):\n",
    "    self.out = x.view(x.shape[0], -1) # maintain the batch dimension\n",
    "    return self.out\n",
    "  \n",
    "  def parameters(self):\n",
    "    return []\n",
    "\n",
    "\n",
    "class FlattenConsecutive:\n",
    "  \n",
    "  def __init__(self, n): # n is the number of elements (that are conesecutive) that we want to concatenate in the last dimension\n",
    "    self.n = n\n",
    "  \n",
    "  def __call__(self, x):\n",
    "    B, T, C = x.shape\n",
    "    x = x.view(B, -1, C*self.n) # -1 will end up being T//n\n",
    "    if x.shape[1] == 1:\n",
    "      x = x.squeeze(dim=1)\n",
    "    self.out = x\n",
    "    return self.out\n",
    "  \n",
    "  def parameters(self):\n",
    "    return []\n",
    "\n",
    "\n",
    "# Holds a list of layers. See PyTorch containers.\n",
    "class Sequential:\n",
    "  \n",
    "  def __init__(self, layers):\n",
    "    self.layers = layers\n",
    "    \n",
    "  def __call__(self, x):\n",
    "    for layer in self.layers:\n",
    "      x = layer(x)\n",
    "    self.out = x\n",
    "    return self.out\n",
    "  \n",
    "  def parameters(self):\n",
    "    return [p for layer in self.layers for p in layer.parameters()]"
   ]
  },
  {
   "cell_type": "code",
   "execution_count": 10,
   "metadata": {},
   "outputs": [],
   "source": [
    "torch.manual_seed(42);"
   ]
  },
  {
   "cell_type": "code",
   "execution_count": 11,
   "metadata": {},
   "outputs": [
    {
     "name": "stdout",
     "output_type": "stream",
     "text": [
      "40873\n"
     ]
    }
   ],
   "source": [
    "embedding_dim = 10\n",
    "hidden_layer_size = 128\n",
    "\n",
    "model = Sequential([\n",
    "  Embedding(vocab_size, embedding_dim), \n",
    "  FlattenConsecutive(n=3),\n",
    "  Linear(3*embedding_dim, hidden_layer_size, bias=False), BatchNorm1d(hidden_layer_size), Tanh(),\n",
    "  FlattenConsecutive(n=2),\n",
    "  Linear(2*hidden_layer_size, hidden_layer_size, bias=False), BatchNorm1d(hidden_layer_size), Tanh(),\n",
    "  Linear(hidden_layer_size, vocab_size, bias=True)\n",
    "])\n",
    "\n",
    "with torch.no_grad():\n",
    "  model.layers[-1].weight *= 0.1 # make the last layer less confident\n",
    "\n",
    "parameters = model.parameters()\n",
    "print(sum(p.nelement() for p in parameters))\n",
    "for p in parameters:\n",
    "  p.requires_grad = True"
   ]
  },
  {
   "cell_type": "code",
   "execution_count": 12,
   "metadata": {},
   "outputs": [
    {
     "name": "stdout",
     "output_type": "stream",
     "text": [
      "Embedding: (4, 6, 10)\n",
      "FlattenConsecutive: (4, 2, 30)\n",
      "Linear: (4, 2, 128)\n",
      "BatchNorm1d: (4, 2, 128)\n",
      "Tanh: (4, 2, 128)\n",
      "FlattenConsecutive: (4, 256)\n",
      "Linear: (4, 128)\n",
      "BatchNorm1d: (4, 128)\n",
      "Tanh: (4, 128)\n",
      "Linear: (4, 27)\n"
     ]
    }
   ],
   "source": [
    "# example forward pass with a batch of size 4\n",
    "Xb = X_train[torch.randint(0, X_train.shape[0], (4,))] # batch of size 4\n",
    "model(Xb)\n",
    "for layer in model.layers:\n",
    "  print(f\"{layer.__class__.__name__}: {tuple(layer.out.shape)}\")"
   ]
  },
  {
   "cell_type": "code",
   "execution_count": 13,
   "metadata": {},
   "outputs": [
    {
     "name": "stdout",
     "output_type": "stream",
     "text": [
      "0/200000\t3.2940\n",
      "10000/200000\t1.9453\n",
      "20000/200000\t2.1717\n",
      "30000/200000\t2.0948\n",
      "40000/200000\t1.8160\n",
      "50000/200000\t2.0289\n",
      "60000/200000\t1.7016\n",
      "70000/200000\t2.2403\n",
      "80000/200000\t1.6098\n",
      "90000/200000\t2.0955\n",
      "100000/200000\t1.9176\n",
      "110000/200000\t2.5653\n",
      "120000/200000\t2.2417\n",
      "130000/200000\t1.7494\n",
      "140000/200000\t1.7649\n",
      "150000/200000\t2.0008\n",
      "160000/200000\t2.3250\n",
      "170000/200000\t1.7746\n",
      "180000/200000\t2.0487\n",
      "190000/200000\t2.1251\n"
     ]
    }
   ],
   "source": [
    "for layer in model.layers:\n",
    "    layer.training = True\n",
    "\n",
    "max_steps = 200_000\n",
    "batch_size = 32\n",
    "lossi = []\n",
    "\n",
    "for step in range(max_steps):\n",
    "  \n",
    "  # minibatch construct\n",
    "  ixs = torch.randint(0, X_train.shape[0], (batch_size,))\n",
    "  Xb, Yb = X_train[ixs], Y_train[ixs]\n",
    "  \n",
    "  # forward pass\n",
    "  logits = model(Xb)\n",
    "  loss = F.cross_entropy(logits, Yb)\n",
    "  \n",
    "  # backward pass\n",
    "  for p in parameters:\n",
    "    p.grad = None\n",
    "  loss.backward()\n",
    "  \n",
    "  # update: simple SGD\n",
    "  lr = 0.1 if step < 150_000 else 0.01\n",
    "  for p in parameters:\n",
    "    p.data += -lr * p.grad # type: ignore\n",
    "  \n",
    "  # track stats\n",
    "  if step % 10_000 == 0:\n",
    "    print(f\"{step}/{max_steps}\\t{loss.item():.4f}\")\n",
    "  lossi.append(loss.item())"
   ]
  },
  {
   "cell_type": "code",
   "execution_count": 14,
   "metadata": {},
   "outputs": [
    {
     "data": {
      "image/png": "[encoded data removed]",
      "text/plain": [
       "<Figure size 640x480 with 1 Axes>"
      ]
     },
     "metadata": {},
     "output_type": "display_data"
    }
   ],
   "source": [
    "plt.plot(torch.tensor(lossi).view(-1, 1000).mean(dim=1));"
   ]
  },
  {
   "cell_type": "code",
   "execution_count": 15,
   "metadata": {},
   "outputs": [],
   "source": [
    "@torch.no_grad() # disables gradient tracking\n",
    "def evaluate(X, Y):\n",
    "    for layer in model.layers:\n",
    "        layer.training = False\n",
    "    logits = model(X)\n",
    "    loss = F.cross_entropy(logits, Y)\n",
    "    return loss.item()"
   ]
  },
  {
   "cell_type": "code",
   "execution_count": 16,
   "metadata": {},
   "outputs": [
    {
     "name": "stdout",
     "output_type": "stream",
     "text": [
      "Training split loss: 1.8660\n",
      "Development split loss: 2.0028\n"
     ]
    }
   ],
   "source": [
    "print(f\"Training split loss: {evaluate(X_train, Y_train):.4f}\")\n",
    "print(f\"Development split loss: {evaluate(X_dev, Y_dev):.4f}\")"
   ]
  },
  {
   "cell_type": "code",
   "execution_count": 17,
   "metadata": {},
   "outputs": [
    {
     "name": "stdout",
     "output_type": "stream",
     "text": [
      "Test split loss: 1.9992\n"
     ]
    }
   ],
   "source": [
    "print(f\"Test split loss: {evaluate(X_test, Y_test):.4f}\")"
   ]
  },
  {
   "cell_type": "code",
   "execution_count": 18,
   "metadata": {},
   "outputs": [
    {
     "name": "stdout",
     "output_type": "stream",
     "text": [
      "karyus\n",
      "kimba\n",
      "esma\n",
      "gamilie\n",
      "shrith\n",
      "gilyfe\n",
      "alainna\n",
      "paysa\n",
      "meda\n",
      "miccen\n",
      "aryshelled\n",
      "jourdan\n",
      "elnoe\n",
      "kiodec\n",
      "shan\n",
      "aashta\n",
      "rless\n",
      "novay\n",
      "brookle\n",
      "zakhini\n"
     ]
    }
   ],
   "source": [
    "for layer in model.layers:\n",
    "    layer.training = False\n",
    "with torch.no_grad():\n",
    "    g = torch.Generator().manual_seed(5)\n",
    "    for _ in range(20):\n",
    "        context = [\".\"] * block_size\n",
    "        out = []\n",
    "        while True:\n",
    "            x = torch.tensor([[char_to_ix[char] for char in context]])\n",
    "            logits = model(x)\n",
    "            probs = F.softmax(logits, dim=1)\n",
    "            ix = torch.multinomial(probs, num_samples=1, generator=g).item()\n",
    "            if ix==0:\n",
    "                break\n",
    "            char = ix_to_char[ix] # type: ignore\n",
    "            context = context[1:] + [char]\n",
    "            out.append(char)\n",
    "        print(\"\".join(out), end=\"\\n\")"
   ]
  }
 ],
 "metadata": {
  "kernelspec": {
   "display_name": "pytorch-env",
   "language": "python",
   "name": "python3"
  },
  "language_info": {
   "codemirror_mode": {
    "name": "ipython",
    "version": 3
   },
   "file_extension": ".py",
   "mimetype": "text/x-python",
   "name": "python",
   "nbconvert_exporter": "python",
   "pygments_lexer": "ipython3",
   "version": "3.10.11"
  },
  "orig_nbformat": 4
 },
 "nbformat": 4,
 "nbformat_minor": 2
}
