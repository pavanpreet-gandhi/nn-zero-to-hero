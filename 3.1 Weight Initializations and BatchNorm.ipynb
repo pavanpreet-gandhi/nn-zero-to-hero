{
 "cells": [
  {
   "attachments": {},
   "cell_type": "markdown",
   "metadata": {},
   "source": [
    "# Weight Initializations and BatchNorm"
   ]
  },
  {
   "cell_type": "code",
   "execution_count": 1,
   "metadata": {},
   "outputs": [],
   "source": [
    "import torch\n",
    "import torch.nn.functional as F\n",
    "import matplotlib.pyplot as plt\n",
    "import random"
   ]
  },
  {
   "cell_type": "code",
   "execution_count": 2,
   "metadata": {},
   "outputs": [],
   "source": [
    "torch.set_printoptions(linewidth=140)"
   ]
  },
  {
   "cell_type": "code",
   "execution_count": 3,
   "metadata": {},
   "outputs": [
    {
     "name": "stdout",
     "output_type": "stream",
     "text": [
      "First few words: ['emma', 'olivia', 'ava', 'isabella', 'sophia']\n",
      "Number of words: 32033\n"
     ]
    }
   ],
   "source": [
    "words = open(\"names.txt\", \"r\").read().splitlines()\n",
    "print(f\"First few words: {words[:5]}\\nNumber of words: {len(words)}\")"
   ]
  },
  {
   "cell_type": "code",
   "execution_count": 4,
   "metadata": {},
   "outputs": [],
   "source": [
    "chars = [\".\"] + sorted(set(\"\".join(words)))\n",
    "char_to_ix = {s: i for i, s in enumerate(chars)}\n",
    "ix_to_char = {i: s for s, i in char_to_ix.items()}"
   ]
  },
  {
   "cell_type": "code",
   "execution_count": 5,
   "metadata": {},
   "outputs": [],
   "source": [
    "# Initialize hyperparameters\n",
    "block_size = 3\n",
    "embedding_size = 4\n",
    "hidden_layer_size = 200\n",
    "batch_size = 64"
   ]
  },
  {
   "cell_type": "code",
   "execution_count": 6,
   "metadata": {},
   "outputs": [
    {
     "name": "stdout",
     "output_type": "stream",
     "text": [
      "torch.Size([182558, 3])\ttorch.Size([182558])\n",
      "torch.Size([22712, 3])\ttorch.Size([22712])\n",
      "torch.Size([22876, 3])\ttorch.Size([22876])\n"
     ]
    }
   ],
   "source": [
    "def build_dataset(words, block_size=3, verbose=False):\n",
    "    X, Y = [], []\n",
    "    for word in words:\n",
    "        padded_word = [\".\"] * block_size + list(word) + [\".\"]\n",
    "        for i in range(len(padded_word)-block_size):\n",
    "            context = [char_to_ix[char] for char in padded_word[i:i+block_size]]\n",
    "            target = char_to_ix[padded_word[i+block_size]]\n",
    "            X.append(context), Y.append(target)\n",
    "    X, Y = torch.tensor(X), torch.tensor(Y)\n",
    "    if verbose:\n",
    "        print(f\"{X.shape}\\t{Y.shape}\")\n",
    "    return X, Y\n",
    "\n",
    "random.seed(5)\n",
    "random.shuffle(words)\n",
    "n1 = int(0.8*len(words))\n",
    "n2 = int(0.9*len(words))\n",
    "\n",
    "X_tr, Y_tr = build_dataset(words[:n1], block_size=block_size, verbose=True)\n",
    "X_dev, Y_dev = build_dataset(words[n1:n2], block_size=block_size, verbose=True)\n",
    "X_test, Y_test = build_dataset(words[n2:], block_size=block_size, verbose=True)"
   ]
  },
  {
   "cell_type": "code",
   "execution_count": 7,
   "metadata": {},
   "outputs": [
    {
     "name": "stdout",
     "output_type": "stream",
     "text": [
      "Number of parameters: 8335\n"
     ]
    }
   ],
   "source": [
    "# initialize parameters\n",
    "g = torch.Generator().manual_seed(5)\n",
    "C = torch.randn((len(chars), embedding_size), generator=g)\n",
    "W1 = torch.randn((block_size*embedding_size, hidden_layer_size), generator=g) * (5/3)/(block_size*embedding_size)**0.5\n",
    "W2 = torch.randn((hidden_layer_size, len(chars)), generator=g) * 1/(hidden_layer_size)**0.5\n",
    "b2 = torch.zeros((len(chars)))\n",
    "\n",
    "# batchnorm parameters\n",
    "bngain = torch.ones((1, hidden_layer_size))\n",
    "bnbias = torch.zeros((1, hidden_layer_size))\n",
    "bnmean_running = torch.zeros((1, hidden_layer_size))\n",
    "bnstd_running = torch.ones((1, hidden_layer_size))\n",
    "\n",
    "parameters = [C, W1, W2, b2, bngain, bnbias]\n",
    "print(f'Number of parameters: {sum(p.nelement() for p in parameters)}')\n",
    "for p in parameters:\n",
    "    p.requires_grad = True"
   ]
  },
  {
   "cell_type": "code",
   "execution_count": 8,
   "metadata": {},
   "outputs": [
    {
     "name": "stdout",
     "output_type": "stream",
     "text": [
      "0/50000 \t 3.3867897987365723\n",
      "10000/50000 \t 2.0129897594451904\n",
      "20000/50000 \t 2.3968429565429688\n",
      "30000/50000 \t 1.9182183742523193\n",
      "40000/50000 \t 2.240971088409424\n"
     ]
    }
   ],
   "source": [
    "learning_rate = 0.1\n",
    "max_steps = 50_000\n",
    "\n",
    "losses = []\n",
    "\n",
    "for step in range(max_steps):\n",
    "    \n",
    "    # minibatch construct\n",
    "    ix = torch.randint(0, X_tr.shape[0], (batch_size,))\n",
    "    \n",
    "    # forward pass\n",
    "    emb = C[X_tr[ix]]\n",
    "    h_in = emb.view(-1, block_size*embedding_size)\n",
    "    h_preact = h_in @ W1\n",
    "    bnmean, bnstd = h_preact.mean(dim=0, keepdim=True), h_preact.std(dim=0, keepdim=True)\n",
    "    h_preact = bngain * (h_preact - bnmean) / bnstd + bnbias\n",
    "    h_out = torch.tanh(h_preact)\n",
    "    logits = h_out @ W2 + b2\n",
    "    loss = F.cross_entropy(logits, Y_tr[ix])\n",
    "    losses.append(loss.item())\n",
    "    \n",
    "    # update running mean and std\n",
    "    with torch.no_grad():\n",
    "        bnmean_running = 0.999*bnmean_running + 0.001*bnmean\n",
    "        bnstd_running = 0.999*bnstd_running + 0.001*bnstd\n",
    "    \n",
    "    # backward pass\n",
    "    h_out.retain_grad()\n",
    "    for p in parameters:\n",
    "        p.grad = None\n",
    "    loss.backward()\n",
    "    \n",
    "    # update\n",
    "    for p in parameters:\n",
    "        p.data += -learning_rate * p.grad\n",
    "    \n",
    "    if step % 10_000 == 0:\n",
    "        print(f'{step}/{max_steps} \\t {loss.item()}')"
   ]
  },
  {
   "cell_type": "code",
   "execution_count": 9,
   "metadata": {},
   "outputs": [
    {
     "data": {
      "image/png": "[encoded data removed]",
      "text/plain": [
       "<Figure size 1200x500 with 1 Axes>"
      ]
     },
     "metadata": {},
     "output_type": "display_data"
    }
   ],
   "source": [
    "plt.figure(figsize=(12,5)); plt.title(\"Loss vs Step\"); plt.plot(losses); plt.grid();"
   ]
  },
  {
   "cell_type": "code",
   "execution_count": 10,
   "metadata": {},
   "outputs": [],
   "source": [
    "@torch.no_grad() # disables gradient tracking\n",
    "def evaluate(X, Y):\n",
    "    emb = C[X]\n",
    "    h_in = emb.view(-1, block_size*embedding_size)\n",
    "    h_preact = h_in @ W1\n",
    "    h_preact = bngain * (h_preact - bnmean_running) / bnstd_running + bnbias\n",
    "    h_out = torch.tanh(h_preact)\n",
    "    logits = h_out @ W2 + b2\n",
    "    loss = F.cross_entropy(logits, Y)\n",
    "    return loss.item()"
   ]
  },
  {
   "cell_type": "code",
   "execution_count": 11,
   "metadata": {},
   "outputs": [
    {
     "name": "stdout",
     "output_type": "stream",
     "text": [
      "Training split loss: 2.1753\n",
      "Development split loss: 2.2126\n"
     ]
    }
   ],
   "source": [
    "print(f\"Training split loss: {evaluate(X_tr, Y_tr):.4f}\")\n",
    "print(f\"Development split loss: {evaluate(X_dev, Y_dev):.4f}\")"
   ]
  },
  {
   "attachments": {},
   "cell_type": "markdown",
   "metadata": {},
   "source": [
    "### Evaluate"
   ]
  },
  {
   "cell_type": "code",
   "execution_count": 12,
   "metadata": {},
   "outputs": [
    {
     "name": "stdout",
     "output_type": "stream",
     "text": [
      "Test split loss: 2.2023\n"
     ]
    }
   ],
   "source": [
    "print(f\"Test split loss: {evaluate(X_test, Y_test):.4f}\")"
   ]
  },
  {
   "cell_type": "code",
   "execution_count": 13,
   "metadata": {},
   "outputs": [
    {
     "name": "stdout",
     "output_type": "stream",
     "text": [
      "karyus\n",
      "kima\n",
      "les\n",
      "zosamariel\n",
      "harvilio\n",
      "tep\n",
      "alajendo\n",
      "zioas\n",
      "kori\n",
      "hucindaryseesandrick\n",
      "tanye\n",
      "noy\n",
      "kion\n",
      "corrin\n",
      "aaylyn\n",
      "sliniditzaysin\n",
      "oluw\n",
      "zathinitayvery\n",
      "kriza\n",
      "ram\n"
     ]
    }
   ],
   "source": [
    "with torch.no_grad():\n",
    "    g = torch.Generator().manual_seed(5)\n",
    "    for _ in range(20):\n",
    "        context = [\".\"] * block_size\n",
    "        out = []\n",
    "        while True:\n",
    "            emb = C[torch.tensor([char_to_ix[char] for char in context])]\n",
    "            h_in = emb.view(-1, block_size*embedding_size)\n",
    "            h_preact = h_in @ W1\n",
    "            h_preact = bngain * (h_preact - bnmean_running) / bnstd_running + bnbias\n",
    "            h_out = torch.tanh(h_preact)\n",
    "            logits = h_out @ W2 + b2\n",
    "            probs = F.softmax(logits, dim=1)\n",
    "            ix = torch.multinomial(probs, num_samples=1, generator=g).item()\n",
    "            if ix==0:\n",
    "                break\n",
    "            char = ix_to_char[ix] # type: ignore\n",
    "            context = context[1:] + [char]\n",
    "            out.append(char)\n",
    "        print(\"\".join(out), end=\"\\n\")"
   ]
  }
 ],
 "metadata": {
  "kernelspec": {
   "display_name": "pytorch-env",
   "language": "python",
   "name": "python3"
  },
  "language_info": {
   "codemirror_mode": {
    "name": "ipython",
    "version": 3
   },
   "file_extension": ".py",
   "mimetype": "text/x-python",
   "name": "python",
   "nbconvert_exporter": "python",
   "pygments_lexer": "ipython3",
   "version": "3.10.12"
  },
  "orig_nbformat": 4
 },
 "nbformat": 4,
 "nbformat_minor": 2
}
